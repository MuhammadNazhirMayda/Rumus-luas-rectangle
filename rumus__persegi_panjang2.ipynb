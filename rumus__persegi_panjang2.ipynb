{
  "nbformat": 4,
  "nbformat_minor": 0,
  "metadata": {
    "colab": {
      "provenance": [],
      "authorship_tag": "ABX9TyNqHVE8bn2n5UyUj8nhahG0",
      "include_colab_link": true
    },
    "kernelspec": {
      "name": "python3",
      "display_name": "Python 3"
    },
    "language_info": {
      "name": "python"
    }
  },
  "cells": [
    {
      "cell_type": "markdown",
      "metadata": {
        "id": "view-in-github",
        "colab_type": "text"
      },
      "source": [
        "<a href=\"https://colab.research.google.com/github/MuhammadNazhirMayda/Rumus-luas-rectangle/blob/main/rumus__persegi_panjang2.ipynb\" target=\"_parent\"><img src=\"https://colab.research.google.com/assets/colab-badge.svg\" alt=\"Open In Colab\"/></a>"
      ]
    },
    {
      "cell_type": "code",
      "execution_count": null,
      "metadata": {
        "id": "rJaegjwv0xeF"
      },
      "outputs": [],
      "source": []
    },
    {
      "cell_type": "markdown",
      "source": [
        "smaga"
      ],
      "metadata": {
        "id": "6rezqi241FVx"
      }
    },
    {
      "cell_type": "code",
      "source": [
        "panjang = 15\n",
        "lebar = 6\n",
        "luas = panjang * lebar\n",
        "print(\" luas persegi panjang adalah\",luas,\"cm\")"
      ],
      "metadata": {
        "colab": {
          "base_uri": "https://localhost:8080/"
        },
        "id": "QbjJ2nEY1HF6",
        "outputId": "2060c76a-6d13-4e7c-cdb6-b7dd4f3b5ae8"
      },
      "execution_count": 1,
      "outputs": [
        {
          "output_type": "stream",
          "name": "stdout",
          "text": [
            " luas persegi panjang adalah 90 cm\n"
          ]
        }
      ]
    }
  ]
}